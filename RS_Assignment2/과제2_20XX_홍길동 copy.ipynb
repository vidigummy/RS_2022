{
 "cells": [
  {
   "cell_type": "markdown",
   "metadata": {},
   "source": [
    "# Programming Assignment 2: Movie recommendation\n",
    "\n",
    "- 과제 목표: 뉴럴 네트워크 모델을 설계한 후 모델을 학습하여 각 영화들의 embedding 들을 생성하고, 영화 embedding 을 활용하여 각 사용자에게 맞춤형 영화를 추천"
   ]
  },
  {
   "cell_type": "markdown",
   "metadata": {},
   "source": [
    "# Notice\n",
    "\n",
    "<br>\n",
    "\n",
    "- 과제를 수행하면서 각 task 마다 꼭 주어진 1개의 cell만을 사용할 필요는 없으며, 여러 개의 cell을 추가하여 자유롭게 사용해도 괜찮습니다.\n",
    "- 과제 수행을 위해 필요한 module이 있다면 추가로 import 해도 괜찮습니다."
   ]
  },
  {
   "cell_type": "code",
   "execution_count": 2,
   "metadata": {},
   "outputs": [
    {
     "name": "stdout",
     "output_type": "stream",
     "text": [
      "Requirement already satisfied: tensorflow in /Users/vidigummy/opt/anaconda3/envs/RS/lib/python3.7/site-packages (2.8.0)\n",
      "Requirement already satisfied: tf-estimator-nightly==2.8.0.dev2021122109 in /Users/vidigummy/opt/anaconda3/envs/RS/lib/python3.7/site-packages (from tensorflow) (2.8.0.dev2021122109)\n",
      "Requirement already satisfied: termcolor>=1.1.0 in /Users/vidigummy/opt/anaconda3/envs/RS/lib/python3.7/site-packages (from tensorflow) (1.1.0)\n",
      "Requirement already satisfied: google-pasta>=0.1.1 in /Users/vidigummy/opt/anaconda3/envs/RS/lib/python3.7/site-packages (from tensorflow) (0.2.0)\n",
      "Requirement already satisfied: opt-einsum>=2.3.2 in /Users/vidigummy/opt/anaconda3/envs/RS/lib/python3.7/site-packages (from tensorflow) (3.3.0)\n",
      "Requirement already satisfied: typing-extensions>=3.6.6 in /Users/vidigummy/opt/anaconda3/envs/RS/lib/python3.7/site-packages (from tensorflow) (4.1.1)\n",
      "Requirement already satisfied: tensorboard<2.9,>=2.8 in /Users/vidigummy/opt/anaconda3/envs/RS/lib/python3.7/site-packages (from tensorflow) (2.8.0)\n",
      "Requirement already satisfied: tensorflow-io-gcs-filesystem>=0.23.1 in /Users/vidigummy/opt/anaconda3/envs/RS/lib/python3.7/site-packages (from tensorflow) (0.25.0)\n",
      "Requirement already satisfied: h5py>=2.9.0 in /Users/vidigummy/opt/anaconda3/envs/RS/lib/python3.7/site-packages (from tensorflow) (3.6.0)\n",
      "Requirement already satisfied: libclang>=9.0.1 in /Users/vidigummy/opt/anaconda3/envs/RS/lib/python3.7/site-packages (from tensorflow) (14.0.1)\n",
      "Requirement already satisfied: keras-preprocessing>=1.1.1 in /Users/vidigummy/opt/anaconda3/envs/RS/lib/python3.7/site-packages (from tensorflow) (1.1.2)\n",
      "Requirement already satisfied: protobuf>=3.9.2 in /Users/vidigummy/opt/anaconda3/envs/RS/lib/python3.7/site-packages (from tensorflow) (3.20.1)\n",
      "Requirement already satisfied: six>=1.12.0 in /Users/vidigummy/opt/anaconda3/envs/RS/lib/python3.7/site-packages (from tensorflow) (1.16.0)\n",
      "Requirement already satisfied: keras<2.9,>=2.8.0rc0 in /Users/vidigummy/opt/anaconda3/envs/RS/lib/python3.7/site-packages (from tensorflow) (2.8.0)\n",
      "Requirement already satisfied: setuptools in /Users/vidigummy/opt/anaconda3/envs/RS/lib/python3.7/site-packages (from tensorflow) (61.2.0)\n",
      "Requirement already satisfied: flatbuffers>=1.12 in /Users/vidigummy/opt/anaconda3/envs/RS/lib/python3.7/site-packages (from tensorflow) (2.0)\n",
      "Requirement already satisfied: astunparse>=1.6.0 in /Users/vidigummy/opt/anaconda3/envs/RS/lib/python3.7/site-packages (from tensorflow) (1.6.3)\n",
      "Requirement already satisfied: numpy>=1.20 in /Users/vidigummy/opt/anaconda3/envs/RS/lib/python3.7/site-packages (from tensorflow) (1.21.5)\n",
      "Requirement already satisfied: absl-py>=0.4.0 in /Users/vidigummy/opt/anaconda3/envs/RS/lib/python3.7/site-packages (from tensorflow) (1.0.0)\n",
      "Requirement already satisfied: grpcio<2.0,>=1.24.3 in /Users/vidigummy/opt/anaconda3/envs/RS/lib/python3.7/site-packages (from tensorflow) (1.44.0)\n",
      "Requirement already satisfied: gast>=0.2.1 in /Users/vidigummy/opt/anaconda3/envs/RS/lib/python3.7/site-packages (from tensorflow) (0.5.3)\n",
      "Requirement already satisfied: wrapt>=1.11.0 in /Users/vidigummy/opt/anaconda3/envs/RS/lib/python3.7/site-packages (from tensorflow) (1.14.0)\n",
      "Requirement already satisfied: wheel<1.0,>=0.23.0 in /Users/vidigummy/opt/anaconda3/envs/RS/lib/python3.7/site-packages (from astunparse>=1.6.0->tensorflow) (0.37.1)\n",
      "Requirement already satisfied: cached-property in /Users/vidigummy/opt/anaconda3/envs/RS/lib/python3.7/site-packages (from h5py>=2.9.0->tensorflow) (1.5.2)\n",
      "Requirement already satisfied: requests<3,>=2.21.0 in /Users/vidigummy/opt/anaconda3/envs/RS/lib/python3.7/site-packages (from tensorboard<2.9,>=2.8->tensorflow) (2.27.1)\n",
      "Requirement already satisfied: tensorboard-plugin-wit>=1.6.0 in /Users/vidigummy/opt/anaconda3/envs/RS/lib/python3.7/site-packages (from tensorboard<2.9,>=2.8->tensorflow) (1.8.1)\n",
      "Requirement already satisfied: werkzeug>=0.11.15 in /Users/vidigummy/opt/anaconda3/envs/RS/lib/python3.7/site-packages (from tensorboard<2.9,>=2.8->tensorflow) (2.1.1)\n",
      "Requirement already satisfied: markdown>=2.6.8 in /Users/vidigummy/opt/anaconda3/envs/RS/lib/python3.7/site-packages (from tensorboard<2.9,>=2.8->tensorflow) (3.3.6)\n",
      "Requirement already satisfied: tensorboard-data-server<0.7.0,>=0.6.0 in /Users/vidigummy/opt/anaconda3/envs/RS/lib/python3.7/site-packages (from tensorboard<2.9,>=2.8->tensorflow) (0.6.1)\n",
      "Requirement already satisfied: google-auth<3,>=1.6.3 in /Users/vidigummy/opt/anaconda3/envs/RS/lib/python3.7/site-packages (from tensorboard<2.9,>=2.8->tensorflow) (2.6.6)\n",
      "Requirement already satisfied: google-auth-oauthlib<0.5,>=0.4.1 in /Users/vidigummy/opt/anaconda3/envs/RS/lib/python3.7/site-packages (from tensorboard<2.9,>=2.8->tensorflow) (0.4.6)\n",
      "Requirement already satisfied: rsa<5,>=3.1.4 in /Users/vidigummy/opt/anaconda3/envs/RS/lib/python3.7/site-packages (from google-auth<3,>=1.6.3->tensorboard<2.9,>=2.8->tensorflow) (4.8)\n",
      "Requirement already satisfied: cachetools<6.0,>=2.0.0 in /Users/vidigummy/opt/anaconda3/envs/RS/lib/python3.7/site-packages (from google-auth<3,>=1.6.3->tensorboard<2.9,>=2.8->tensorflow) (5.0.0)\n",
      "Requirement already satisfied: pyasn1-modules>=0.2.1 in /Users/vidigummy/opt/anaconda3/envs/RS/lib/python3.7/site-packages (from google-auth<3,>=1.6.3->tensorboard<2.9,>=2.8->tensorflow) (0.2.8)\n",
      "Requirement already satisfied: requests-oauthlib>=0.7.0 in /Users/vidigummy/opt/anaconda3/envs/RS/lib/python3.7/site-packages (from google-auth-oauthlib<0.5,>=0.4.1->tensorboard<2.9,>=2.8->tensorflow) (1.3.1)\n",
      "Requirement already satisfied: importlib-metadata>=4.4 in /Users/vidigummy/opt/anaconda3/envs/RS/lib/python3.7/site-packages (from markdown>=2.6.8->tensorboard<2.9,>=2.8->tensorflow) (4.11.3)\n",
      "Requirement already satisfied: zipp>=0.5 in /Users/vidigummy/opt/anaconda3/envs/RS/lib/python3.7/site-packages (from importlib-metadata>=4.4->markdown>=2.6.8->tensorboard<2.9,>=2.8->tensorflow) (3.8.0)\n",
      "Requirement already satisfied: pyasn1<0.5.0,>=0.4.6 in /Users/vidigummy/opt/anaconda3/envs/RS/lib/python3.7/site-packages (from pyasn1-modules>=0.2.1->google-auth<3,>=1.6.3->tensorboard<2.9,>=2.8->tensorflow) (0.4.8)\n",
      "Requirement already satisfied: certifi>=2017.4.17 in /Users/vidigummy/opt/anaconda3/envs/RS/lib/python3.7/site-packages (from requests<3,>=2.21.0->tensorboard<2.9,>=2.8->tensorflow) (2021.10.8)\n",
      "Requirement already satisfied: urllib3<1.27,>=1.21.1 in /Users/vidigummy/opt/anaconda3/envs/RS/lib/python3.7/site-packages (from requests<3,>=2.21.0->tensorboard<2.9,>=2.8->tensorflow) (1.26.9)\n",
      "Requirement already satisfied: charset-normalizer~=2.0.0 in /Users/vidigummy/opt/anaconda3/envs/RS/lib/python3.7/site-packages (from requests<3,>=2.21.0->tensorboard<2.9,>=2.8->tensorflow) (2.0.12)\n",
      "Requirement already satisfied: idna<4,>=2.5 in /Users/vidigummy/opt/anaconda3/envs/RS/lib/python3.7/site-packages (from requests<3,>=2.21.0->tensorboard<2.9,>=2.8->tensorflow) (3.3)\n",
      "Requirement already satisfied: oauthlib>=3.0.0 in /Users/vidigummy/opt/anaconda3/envs/RS/lib/python3.7/site-packages (from requests-oauthlib>=0.7.0->google-auth-oauthlib<0.5,>=0.4.1->tensorboard<2.9,>=2.8->tensorflow) (3.2.0)\n"
     ]
    }
   ],
   "source": [
    "! pip install tensorflow"
   ]
  },
  {
   "cell_type": "markdown",
   "metadata": {},
   "source": [
    "# Import Modules"
   ]
  },
  {
   "cell_type": "code",
   "execution_count": 3,
   "metadata": {},
   "outputs": [],
   "source": [
    "import warnings, random\n",
    "import numpy as np\n",
    "import pandas as pd\n",
    "import random\n",
    "import torch # For building network\n",
    "import torch.nn as nn\n",
    "import torch.nn.functional as F\n",
    "from itertools import permutations\n",
    "from itertools import permutations # For making pairs\n",
    "warnings.filterwarnings('ignore')"
   ]
  },
  {
   "cell_type": "code",
   "execution_count": 4,
   "metadata": {},
   "outputs": [
    {
     "name": "stdout",
     "output_type": "stream",
     "text": [
      "/Users/vidigummy/opt/anaconda3/envs/RS/bin/python\n"
     ]
    }
   ],
   "source": [
    "import sys\n",
    "print(sys.executable)"
   ]
  },
  {
   "cell_type": "markdown",
   "metadata": {},
   "source": [
    "# Data loading"
   ]
  },
  {
   "cell_type": "code",
   "execution_count": 5,
   "metadata": {},
   "outputs": [],
   "source": [
    "dir = './MovieLens100K/'\n",
    "df_ratings = pd.read_csv(dir + 'ratings.csv', usecols=['userId', 'movieId', 'rating'])\n",
    "df_movies = pd.read_csv(dir + 'movies.csv', usecols=['movieId', 'title', 'genres']) # for title-matching"
   ]
  },
  {
   "cell_type": "markdown",
   "metadata": {},
   "source": [
    "# Preprocessing data\n",
    "\n",
    "<br>\n",
    "\n",
    "> ### Problem 1 (3 points)\n",
    "\n",
    "<br>\n",
    "\n",
    "1. df_ratings로 부터 각 사용자들이 본 영화를 기록.\n",
    "2. 사용자 마다 본 영화 목록을 $(movie1, movie2)$, $(movie2, movie1)$ 과 같이 pair로 생성.\n",
    "    - 즉, 각 사용자 마다 본 영화 목록에 대해 Permutation을 수행\n",
    "3. 2번 과정이 끝난 후, random을 이용해 각 pair 순서를 무작위로 shuffle."
   ]
  },
  {
   "cell_type": "code",
   "execution_count": 14,
   "metadata": {},
   "outputs": [
    {
     "name": "stdout",
     "output_type": "stream",
     "text": [
      "[(1278, 2036), (1221, 1466), (2671, 30749), (48394, 2005), (3421, 3706), (508, 60756), (31, 170), (2153, 1625), (97938, 5481), (1258, 1374), (1676, 2888), (4896, 778), (1257, 1193)]\n",
      "1099200\n"
     ]
    }
   ],
   "source": [
    "#### Your Code Here\n",
    "df_users = df_ratings['userId'].drop_duplicates()\n",
    "movies_permutation_result = []\n",
    "cnt = 0\n",
    "for i in df_users:\n",
    "    if(cnt == 20):\n",
    "        break\n",
    "    is_user_movies = df_ratings['userId'] == i\n",
    "    user_movies = df_ratings[is_user_movies]['movieId']\n",
    "    user_movies_list = user_movies.values.tolist()\n",
    "    user_movies_permutation = list(permutations(user_movies_list, 2))\n",
    "    movies_permutation_result.extend(user_movies_permutation)\n",
    "    cnt += 1\n",
    "random.shuffle(movies_permutation_result)\n",
    "# print(len(movies_permutation_result))\n",
    "print(movies_permutation_result[0:13])\n",
    "print(len(movies_permutation_result))"
   ]
  },
  {
   "cell_type": "markdown",
   "metadata": {},
   "source": [
    "# Build and train neural networks for generating movie embeddings\n",
    "\n",
    "<br>\n",
    "\n",
    "> ### Problem 2 (4 points)\n",
    "\n",
    "<br>\n",
    "\n",
    "- 각 영화 임베딩을 구하기 위해 뉴럴 네트워크 모델을 활용하여 multi-class classification 을 수행\n",
    "\n",
    "- 설계할 신경망의 기본 구조는 **Input Layer - Hidden(Embedding) Layer - Output Layer**.\n",
    "    - 7주차 강의자료 p.7 신경망 구조 이미지 참고\n",
    "\n",
    "- 현재 Network를 통해 하고자 하는 task는 multi-class classification.\n",
    "    - 예: $(movie1, movie2)$ 와 같은 입력 데이터와 정답 출력 데이터를 이용해 모델을 학습\n",
    "        - Input : $movie1$의 one-hot vector\n",
    "        - Output : $\\widehat{movie2}$의 one-hot vector\n",
    "        - Compute Loss : $\\widehat{movie2}$ 와 $movie2$ 간의 Cross-entropy Loss\n",
    "- 학습이 완료된 이후에 input layer와 hidden(embedding) layer 사이의 weight matrix $W_{in}$를 movie에 대한 embedding vector로 사용이 가능.\n",
    "> embedding size(# of hidden units)는 100 이하로 두는 것을 권장. <br>\n",
    "> embedding layer 다음 hidden layer를 더 추가하여 Genre와 같은 추가 정보를 학습에 활용 할 수도 있음 (필수적으로 고려해야할 사항은 아님).\n",
    "\n",
    "- 설계한 뉴럴 네트워크 모델의 학습이 완료된 후, 학습된 weight matrix $W_{in}$의 행/열벡터를 각 영화에 대한 embedding vector로 간주하여 영화 embedding 들을 구할 수 있음."
   ]
  },
  {
   "cell_type": "code",
   "execution_count": 63,
   "metadata": {},
   "outputs": [],
   "source": [
    "class NnNetwork(nn.Module):\n",
    "    def __init__(self, input_size):\n",
    "        super().__init__()\n",
    "        self.embedded_layer = nn.Linear(input_size, 100)\n",
    "        self.hidden_layer = nn.Linear(100, 100)\n",
    "        self.output_layer = nn.Linear(100,input_size)\n",
    "        self.relu = nn.ReLU()\n",
    "        self.activation = nn.Sigmoid()\n",
    "        self.loss_function = nn.CrossEntropyLoss()\n",
    "    def forward(self,x, target):\n",
    "        x = self.embedded_layer(x)\n",
    "        x = self.relu(x)\n",
    "        # x = self.hidden_layer(x)\n",
    "        # x = self.relu(x)\n",
    "        x = self.output_layer(x)\n",
    "        output = self.activation(x)\n",
    "        # print(\"---output : type -> \" + str(type(output)) + \" || shape -> \"+str(output.shape))\n",
    "        # print(output)\n",
    "        # print(\"---target : type -> \" + str(type(target)) + \" || shape -> \"+str(target.shape))\n",
    "        # print(target)\n",
    "        loss = self.loss_function(output, target)\n",
    "        loss.backward()\n",
    "        return loss"
   ]
  },
  {
   "cell_type": "code",
   "execution_count": 64,
   "metadata": {},
   "outputs": [
    {
     "name": "stdout",
     "output_type": "stream",
     "text": [
      "torch.Size([1099200])\n",
      "torch.Size([1859, 185136])\n",
      "Epoch    0/40 Cost: -0.000000\n",
      "Epoch    4/40 Cost: -0.000000\n",
      "Epoch    8/40 Cost: -0.000000\n",
      "Epoch   12/40 Cost: -0.000000\n",
      "Epoch   16/40 Cost: -0.000000\n",
      "Epoch   20/40 Cost: -0.000000\n",
      "Epoch   24/40 Cost: -0.000000\n",
      "Epoch   28/40 Cost: -0.000000\n",
      "Epoch   32/40 Cost: -0.000000\n",
      "Epoch   36/40 Cost: -0.000000\n"
     ]
    }
   ],
   "source": [
    "#### Your Code Here\n",
    "movies_pair_dataframe = pd.DataFrame(data= movies_permutation_result, columns=['movie1','movie2'])\n",
    "\n",
    "tensor_movie = torch.as_tensor(movies_permutation_result)\n",
    "tensor_movie1 = tensor_movie[:,0]\n",
    "tensor_movie2 = tensor_movie[:,1]\n",
    "# 임베딩 처리\n",
    "labels_one = torch.as_tensor(movies_pair_dataframe['movie1'].values)\n",
    "labels_two = torch.as_tensor(movies_pair_dataframe['movie2'].values)\n",
    "\n",
    "\n",
    "#unique-mapping movie\n",
    "\n",
    "labels_one_uni = labels_one.unique() #mapping array\n",
    "labels_two_uni = labels_two.unique() #mapping array\n",
    "unique_size = labels_one_uni.shape[0]\n",
    "\n",
    "print(labels_one.shape) #1099200\n",
    "print(ohv_one_uni.shape) #1859\n",
    "\n",
    "ohv_one_uni = F.one_hot(labels_one_uni) \n",
    "model = NnNetwork(unique_size)\n",
    "for epoch in range(40):\n",
    "    #make one-hot vector(input, target Generation)\n",
    "    for label, targetInput in tensor_movie:\n",
    "        zero_tensor = torch.zeros(1, unique_size) # B X 1859\n",
    "        zero_tensor[0][labels_one_uni == label.nonzero(as_tuple=True)[0]] = 1\n",
    "        target_tensor = torch.zeros(1, unique_size)\n",
    "        target_tensor[0][labels_two_uni == targetInput.nonzero(as_tuple=True)[0]] = 1\n",
    "\n",
    "        #모델 돌리기\n",
    "        loss = model(zero_tensor, target_tensor)\n",
    "        # loss.backward()\n",
    "        if epoch % 4 == 0:\n",
    "            # 4번마다 로그 출력\n",
    "            print('Epoch {:4d}/{} loss: {:.6f}'.format(\n",
    "                epoch, 40, loss.item()\n",
    "            ))\n",
    "        break\n",
    "\n"
   ]
  },
  {
   "cell_type": "code",
   "execution_count": null,
   "metadata": {},
   "outputs": [],
   "source": [
    "\n",
    "# print(one_labels)\n",
    "#여기서부터 학습 시키자\n",
    "# print(movies_pair_dataframe)\n",
    "# print(ohe_labels)\n",
    "# layer = nn.Linear(in_features=ohe_labels.shape[0]*ohe_labels.shape[1], out_features=100)\n",
    "# for movie1 in ohe_labels:\n",
    "#     model = nn.Linear(in_features=ohe_labels.shape[1],out_features=100)\n",
    "#     optimizer = torch.optim.SGD(model.parameters(), lr=0.01) \n",
    "#     nb_epochs = 10\n",
    "#     # print(\"epochs\")\n",
    "#     # print(movie1.shape)\n",
    "#     # print(ohe_labels.shape[1])\n",
    "#     # print(type(movie1))\n",
    "#     for epoch in range(nb_epochs+1):\n",
    "#         print(torch.FloatTensor(movie1))\n",
    "#         hidden = model(torch.FloatTensor(movie1))\n",
    "#         output_model = nn.Linear(in_features=100, out_features=ohe_labels.shape[1])\n",
    "#         prediction = model(output_model)\n",
    "#         cross_entropy_loss = nn.CrossEntropyLoss()\n",
    "#         cost = cross_entropy_loss(output_model, torch.FloatTensor(ohe2_labels))\n",
    "#         optimizer.zero_grad()\n",
    "#         # 비용 함수를 미분하여 gradient 계산\n",
    "#         cost.backward() # backward 연산\n",
    "#         # W와 b를 업데이트\n",
    "#         optimizer.step()\n",
    "#         if epoch % 1 == 0:\n",
    "#             # 100번마다 로그 출력\n",
    "#             print('Epoch {:4d}/{} Cost: {:.6f}'.format(\n",
    "#                 epoch, nb_epochs, cost.item()\n",
    "#             ))"
   ]
  },
  {
   "cell_type": "code",
   "execution_count": null,
   "metadata": {},
   "outputs": [],
   "source": [
    "    "
   ]
  },
  {
   "cell_type": "code",
   "execution_count": null,
   "metadata": {},
   "outputs": [],
   "source": []
  },
  {
   "cell_type": "markdown",
   "metadata": {},
   "source": [
    "# Recommend customized movies to user\n",
    "\n",
    "<br>\n",
    "\n",
    "> ### Problem 3 (3 points)\n",
    "\n",
    "<br>\n",
    "\n",
    "- 임의의 한명의 사용자에 대하여 해당 사용자가 봤던 영화 n개에 대해 **통합된 embedding vector**를 생성.\n",
    "    - n개의 embedding vector들에 대해, element-wise한 계산을 통해 통합된 하나의 embedding vector를 생성.\n",
    "    - 이 embedding vector는 해당 사용자의 전반적인 영화 시청 성향을 나타내는 embedding vector로 간주할 수 있음.\n",
    "    - 즉, **사용자 1명 당 1개의 embedding vector**를 가짐.\n",
    "- 통합된 embedding vector와 학습된 weight matrix $W_{in}$의 모든 영화 embedding vector들 간의 유사도를 계산.\n",
    "- 그 중 유사도가 높은 (top n) 영화들을 선정, 사용자에게 추천.\n",
    "    > Recommended format : MovieId, Title, Genre, Similarity 가 포함된 형식"
   ]
  },
  {
   "cell_type": "code",
   "execution_count": 8,
   "metadata": {},
   "outputs": [],
   "source": [
    "#### Your Code Here\n"
   ]
  }
 ],
 "metadata": {
  "kernelspec": {
   "display_name": "Python 3 (ipykernel)",
   "language": "python",
   "name": "python3"
  },
  "language_info": {
   "codemirror_mode": {
    "name": "ipython",
    "version": 3
   },
   "file_extension": ".py",
   "mimetype": "text/x-python",
   "name": "python",
   "nbconvert_exporter": "python",
   "pygments_lexer": "ipython3",
   "version": "3.7.11"
  }
 },
 "nbformat": 4,
 "nbformat_minor": 2
}
